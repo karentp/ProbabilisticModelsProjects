{
  "cells": [
    {
      "cell_type": "markdown",
      "metadata": {
        "id": "view-in-github",
        "colab_type": "text"
      },
      "source": [
        "<a href=\"https://colab.research.google.com/github/karentp/ProbabilisticModelsProjects/blob/main/P2_(1).ipynb\" target=\"_parent\"><img src=\"https://colab.research.google.com/assets/colab-badge.svg\" alt=\"Open In Colab\"/></a>"
      ]
    },
    {
      "cell_type": "markdown",
      "metadata": {
        "id": "XFsE4gn_uqZE"
      },
      "source": [
        "---\n",
        "### Universidad de Costa Rica\n",
        "#### IE0405 - Modelos Probabilísticos de Señales y Sistemas\n",
        "\n",
        "Primer semestre del 2022\n",
        "\n",
        "---\n",
        "\n",
        "[comment]: <> (Modificar esta sección con datos personales)\n",
        "\n",
        "* Estudiante: **Karen Dayana Tovar Parra**\n",
        "* Carné: **B77673**\n",
        "* Grupo: **2**\n",
        "\n",
        "# `P2` - *Variables aleatorias*\n",
        "\n",
        "> Este es un ejercicio de introducción a la manipulación de variables aleatorias con Python como lenguaje para computación científica y cálculo numérico.\n",
        "\n",
        "---"
      ]
    },
    {
      "cell_type": "markdown",
      "metadata": {
        "id": "tsusjRdquqZb"
      },
      "source": [
        "---\n",
        "\n",
        "### P2.1 Analisis de probabilidad\n",
        "\n",
        "Dada la siguiente función:\n",
        "\n",
        "\\begin{equation}\n",
        "f(x) = Ae^{-(0.1x)^2}x^4,  \\quad 0 \\leq x < \\infty\n",
        "\\end{equation}\n",
        "\n",
        "\n",
        "\n",
        "* (10%) Encuentre el valor de la constante $A$ que hace que la función sea una densidad de probabilidad.\n",
        "* (5%) Grafique la función de densidad de probabilidad resultante.\n",
        "* (5%) Un amigo suyo quiere jugar lotería, pero la probabilidad de esta lotería anómala se comporta como la función de densidad antes descrita. Su amigo le dice que quiere comprar números mayores a 10. ¿Usted le diría que es una buena idea? ¿Por qué?"
      ]
    },
    {
      "cell_type": "code",
      "source": [
        "!pip install scipy"
      ],
      "metadata": {
        "colab": {
          "base_uri": "https://localhost:8080/"
        },
        "id": "cbulclIFvzer",
        "outputId": "1fed4ab1-e889-465f-da36-d84987e65351"
      },
      "execution_count": null,
      "outputs": [
        {
          "output_type": "stream",
          "name": "stdout",
          "text": [
            "Requirement already satisfied: scipy in /usr/local/lib/python3.7/dist-packages (1.4.1)\n",
            "Requirement already satisfied: numpy>=1.13.3 in /usr/local/lib/python3.7/dist-packages (from scipy) (1.21.6)\n"
          ]
        }
      ]
    },
    {
      "cell_type": "code",
      "execution_count": null,
      "metadata": {
        "id": "MWXfXgHOuqZf"
      },
      "outputs": [],
      "source": [
        "#Imports\n",
        "import numpy as np\n",
        "import scipy as sp\n",
        "import sympy as smp\n",
        "import matplotlib.pyplot as plt\n",
        "from scipy.integrate import quad\n",
        "#from scipy.integrate import cumulative_trapezoid"
      ]
    },
    {
      "cell_type": "code",
      "execution_count": null,
      "metadata": {
        "id": "5x727arwuqZk"
      },
      "outputs": [],
      "source": [
        "# Problema 1\n",
        "\n",
        "# a.) Encuentre el valor de la constante  𝐴  que hace que la función sea una densidad de probabilidad.\n",
        "\n",
        "\"\"\"\n",
        "\n",
        "Para encontrar el valor de A se utiliza la propiedad que dice que el area bajo la curva\n",
        "de la funcion de densidad de probabilidad es igual a 1. Para obtener el area se debe realizar\n",
        "la integral de la funcion en el rango especificado, es decir de 0 a infinito.\n",
        "\n",
        "\"\"\"\n",
        "\n",
        "def get_a_value():\n",
        "    x = smp.symbols('x', real=True) # Se define x como variable\n",
        "    A = smp.symbols('A', real=True) # Se define A como variable\n",
        "    f = A * smp.exp(-(0.1*x)**2)* x**4 # Se define la funcion\n",
        "    integral = smp.integrate(f,(x,0,smp.oo)) # Se resuelve la integral\n",
        "    A_value = smp.solve(integral-1,A) # Se resuelve la integral = 1 para A\n",
        "    return A_value\n",
        "                             \n",
        "a = get_a_value()\n",
        "print(\"El valor de A para lo solicitado es: \", a[0])\n",
        "    "
      ]
    },
    {
      "cell_type": "code",
      "execution_count": null,
      "metadata": {
        "id": "Daxb6Gk9uqZr"
      },
      "outputs": [],
      "source": [
        "# Problema 1\n",
        "\n",
        "# b.) Grafique la función de densidad de probabilidad resultante.\n",
        "\n",
        "\"\"\"\n",
        "\n",
        "Para graficar la funcion de densidad, se sustituye A por el valor encontramos \n",
        "anteriormente. Se evalua la funcion para un rango de x determinado y se grafican\n",
        "los resultados de la evaluacion.\n",
        "\n",
        "\"\"\"\n",
        "\n",
        "def f_a(x):\n",
        "    \"\"\" \n",
        "    Funcion que retorna el valor de la funcion para un x especifico.\n",
        "    \"\"\"\n",
        "    return a[0]*np.exp(-(0.1*x)**2)* x**4 \n",
        "\n",
        "def plot_prob_function():\n",
        "    \"\"\" \n",
        "    Funcion que define un rango de x y realiza la grafica en ese rango, \n",
        "    como el rango de x es de 0 a infinito se escoge de 0 a 100 debido a que despues de 40 \n",
        "    el valor permanece constnte, ademas para que se pueda apreciar la campana de la grafica.\n",
        "    \"\"\"\n",
        "    x = range(0, 100)\n",
        "    plt.plot(x, [f_a(i) for i in x])\n",
        "\n",
        "plot_prob_function()"
      ]
    },
    {
      "cell_type": "code",
      "execution_count": null,
      "metadata": {
        "colab": {
          "base_uri": "https://localhost:8080/"
        },
        "id": "wd_fw_EUuqZv",
        "outputId": "ba0309c7-bcb4-4124-8573-a98fc0800a8a"
      },
      "outputs": [
        {
          "output_type": "stream",
          "name": "stdout",
          "text": [
            "La probabilidad de que X <= 10 es:  0.15 mientras que la probabilidad de que X > 10 es:  0.85 \n",
            " Por lo que no es buena idea comprar numeros menores a 10 y es mejor comprar los mayores  pues hay mas probabilidad de que el ganador este en ese numero\n"
          ]
        }
      ],
      "source": [
        "# Problema 1\n",
        "\n",
        "\"\"\"\n",
        "c.) Un amigo suyo quiere jugar lotería, pero la probabilidad de esta lotería anómala\n",
        "se comporta como la función de densidad antes descrita. Su amigo le dice que quiere comprar \n",
        "números mayores a 10. ¿Usted le diría que es una buena idea? ¿Por qué?\n",
        "\"\"\"\n",
        "\n",
        "\"\"\"\n",
        "Para realizar esta parte y saber si es buena idea se tiene que saber cual es la probabilidad\n",
        "de que el numero ganador de la loteria sea menor a 10 y cual es la probabilidad de que el numero\n",
        "ganador sea mayor igual a 10. La mejor decision sera el rango con mas probabilidad.\n",
        "\"\"\"\n",
        "\n",
        "def get_probs():\n",
        "    \"\"\"\n",
        "    Esta funcion obtiene la probabilidad de que X: el numero ganador sea menor a 10\n",
        "    y la probabilidad de que sea X mayor a 10, evaluando la integral de la funcion de densidad\n",
        "    de probabilidad en los rangos deseados. \n",
        "    \"\"\"\n",
        "    x = smp.symbols('x', real=True) # Se define x como variable\n",
        "    f = a[0] * smp.exp(-(0.1*x)**2)* x**4 # Se define la funcion\n",
        "    p_x_menorigual_10 = smp.integrate(f,(x,0,10)).simplify() # Se resuelve la integral\n",
        "    p_x_mayor_10 = smp.integrate(f,(x,10,100)).simplify() # Se resuelve la integral escogemos de 0-100 considerando \n",
        "                                                          # que en la loteria hay 100 numeros \n",
        "    return float(p_x_menorigual_10), float(p_x_mayor_10)\n",
        "\n",
        "p_x_menorigual_10,p_x_mayor_10 = get_probs()\n",
        "\n",
        "print(\"La probabilidad de que X <= 10 es: \", round(p_x_menorigual_10,2),\n",
        "      \"mientras que la probabilidad de que X > 10 es: \", round(p_x_mayor_10,2),\n",
        "     \"\\n Por lo que no es buena idea comprar numeros menores a 10 y es mejor comprar los mayores\",\n",
        "     \" pues hay mas probabilidad de que el ganador este en ese numero\")"
      ]
    },
    {
      "cell_type": "markdown",
      "metadata": {
        "id": "5x0oJfCRuqZ3"
      },
      "source": [
        "### P2.2 Obtención de los momentos de los modelos de distribución por hora\n",
        "\n",
        "* (40%) Encuentre los cuatro momentos más importantes (y la desviación estándar) de la función anterior"
      ]
    },
    {
      "cell_type": "code",
      "execution_count": null,
      "metadata": {
        "colab": {
          "base_uri": "https://localhost:8080/"
        },
        "id": "DtXTpJtpuqZ6",
        "outputId": "ff8d2d1c-008c-449d-9a3d-e472d9637195"
      },
      "outputs": [
        {
          "output_type": "stream",
          "name": "stdout",
          "text": [
            "El valor medio es:  15.05\n",
            "La varianza es:  23.65\n",
            "La desviacion estandar es:  4.86\n",
            "El sesgo es:  40.73\n",
            "La kurtosis es:  1698.12\n"
          ]
        }
      ],
      "source": [
        "# Problema 2\n",
        "\n",
        "\"\"\"\n",
        "1. Media o Valor esperado: \n",
        "   Como se trata de una funcion continua se obtiene el valor esperado mediante integral\n",
        "\"\"\"\n",
        "def get_expected_value():\n",
        "    x = smp.symbols('x', real=True) # Se define x como variable\n",
        "    f_e = x*(a[0] * smp.exp(-(0.1*x)**2)* x**4) # Se define la funcion\n",
        "    expected_value = smp.integrate(f_e,(x,0,smp.oo)).simplify()\n",
        "    return float(expected_value)\n",
        "\n",
        "\"\"\"\n",
        "2. Varianza: \n",
        "   la varianza la calculamos a partir de la expresion del segundo momento central\n",
        "\"\"\"\n",
        "\n",
        "def get_varianza():\n",
        "    x = smp.symbols('x', real=True) # Se define x como variable\n",
        "    f = a[0] * smp.exp(-(0.1*x)**2)* x**4 # Se define la funcion\n",
        "    m_2 = smp.integrate(((x**2)*f),(x,0,smp.oo)).simplify()\n",
        "    m_1 = smp.integrate(((x**1)*f),(x,0,smp.oo)).simplify()\n",
        "    varianza = m_2-(m_1**2)\n",
        "    return varianza\n",
        "\n",
        "\"\"\"\n",
        "3. Desviacion estandar: \n",
        "   la desviacion estandar es la raiz cuadrada de la varianza\n",
        "\"\"\"\n",
        "\n",
        "def get_desv_estandar():\n",
        "    return smp.sqrt(get_varianza())\n",
        "\n",
        "\"\"\"\n",
        "4. Sesgo: \n",
        "   Utilizaremos la formula de no normalizado\n",
        "\"\"\"\n",
        "def get_sesgo():\n",
        "    x = smp.symbols('x', real=True) # Se define x como variable\n",
        "    f_s = (a[0] * smp.exp(-(0.1*x)**2)* x**4) # Se define la funcion\n",
        "    g = (pow((x-get_expected_value()),3))*f_s\n",
        "    sesgo = smp.integrate(g,(x,0,smp.oo)).simplify()\n",
        "    return sesgo\n",
        "\n",
        "\n",
        "\"\"\"\n",
        "5.  Kurtosis:\n",
        "    Utilizamos formula del momento central cuatro\n",
        "\"\"\"\n",
        "\n",
        "def get_kurtosis():\n",
        "    x = smp.symbols('x', real=True) # Se define x como variable\n",
        "    f_s = (a[0] * smp.exp(-(0.1*x)**2)* x**4) # Se define la funcion\n",
        "    g = (x-(get_expected_value()))**(4)*f_s\n",
        "    sesgo = smp.integrate(g,(x,0,smp.oo)).simplify()\n",
        "    return sesgo\n",
        "\n",
        "print(\"El valor medio es: \", round(get_expected_value(),2))\n",
        "print(\"La varianza es: \", round(get_varianza(),2))\n",
        "print(\"La desviacion estandar es: \",round(get_desv_estandar(),2))\n",
        "print(\"El sesgo es: \",round(get_sesgo(),2))\n",
        "print(\"La kurtosis es: \",round(get_kurtosis(),2))"
      ]
    },
    {
      "cell_type": "markdown",
      "metadata": {
        "id": "a1SCkEnDuqZ8"
      },
      "source": [
        "### P2.3 Probabilidad condicional\n",
        "\n",
        "En cierto evento se cumple que la probabilidad de $P(X \\leq x)$ es descrita por: \n",
        "\n",
        "\\begin{equation}\n",
        "P(X \\leq x)=1-\\frac{1}{\\sum_{n=1}^x n^2} \\quad  x, X \\in \\mathbb N\n",
        "\\end{equation}\n",
        "\n",
        "* (20%) Si se sabe que $X \\leq 25$ ¿cuál es la probabilidad de que $X \\leq 10$?"
      ]
    },
    {
      "cell_type": "code",
      "execution_count": null,
      "metadata": {
        "colab": {
          "base_uri": "https://localhost:8080/"
        },
        "id": "S9RixxDpuqZ_",
        "outputId": "e9586c06-b974-4305-cf0a-94ad1ea24cc1"
      },
      "outputs": [
        {
          "output_type": "stream",
          "name": "stdout",
          "text": [
            "La probabilidad de que X <= 10 cuando X <= 25 es de:  0.9999932862588891\n"
          ]
        }
      ],
      "source": [
        "# Problema 3\n",
        "\n",
        "\n",
        "\"\"\"\n",
        "Para calcular la probabilidad de que X<= 10 dado que X <= 25, definimos:\n",
        "\n",
        "A : el evento de que X <= 10\n",
        "B: el evento de que X <=25\n",
        "x:10\n",
        "b:25\n",
        "\n",
        "Queremos averiguar:\n",
        "\n",
        "Fx(x|B) = P({X <= 10} n {X <= 25}) / P({X <= 10}) = P({X <= 10} n B) / P(B) = P(A n B)/ P(B) = P(A|B)\n",
        "\n",
        "Como x > b y {X <= x} n {X <= b} = {X <= x}, se rata de uno de los casos especiales de la funcion acumulativa\n",
        "condicional. Entonces se puede decir que:\n",
        "\n",
        "Fx(x|X<=25) = Fx(x)/Fx(b) = Fx(10)/Fx(25) (1)\n",
        "\n",
        "\"\"\"\n",
        "\n",
        "def evaluar_fx(x):\n",
        "    \"\"\"\n",
        "    Funcion para evaluar la funcion de densidad considerando la sumatoria hasta un x especifico.\n",
        "    \"\"\"\n",
        "    sum_n= sum([x**2 for x in range(1,x+1)])\n",
        "    return 1-(1/sum_n**2)\n",
        "\n",
        "def get_prob_condicional():\n",
        "    \"\"\"\n",
        "    Funcion para obtener la probabilidad condicional utilizando la ecuacion (1)\n",
        "    debido a que se trata de un caso especial de la funcion condicional\n",
        "    \"\"\"\n",
        "    \n",
        "    Fx_10 = evaluar_fx(10)\n",
        "    Fx_25 = evaluar_fx(25)\n",
        "    Fx_result = Fx_10/Fx_25\n",
        "    return Fx_result\n",
        "\n",
        "print(\"La probabilidad de que X <= 10 cuando X <= 25 es de: \",get_prob_condicional())\n",
        "\n",
        "    "
      ]
    },
    {
      "cell_type": "markdown",
      "metadata": {
        "id": "sqvT9quEuqaF"
      },
      "source": [
        "### P2.4 Transformación de una variable aleatoria\n",
        "\n",
        "* (20%) Al esperar un bus, se deduce que la velocidad del bus cumple es una variable aleatoria con la siguiente función de densidad probabilística:\n",
        "\n",
        "\\begin{equation}\n",
        "f(v) = Ae^{-v^2+5v}\n",
        "\\end{equation}\n",
        "\n",
        "Al mismo tiempo, la velocidad del bus se ve descrita con la siguiente ecuación:\n",
        "\n",
        "\\begin{equation}\n",
        "t^2 = v^2-5v + 5\n",
        "\\end{equation}\n",
        "\n",
        "Donde el tiempo $t$ también es una variable aleatoria\n",
        "\n",
        "* ¿Cual es el valor de $A$ que hace que la función $f(v)$ sea efectivamente una función de densidad de probabilidades? \n",
        "* Encuentre $f(t)$ ¿Es $f(t)$ efectivamente una función de densidad de probabilidades? ¿Por qué?"
      ]
    },
    {
      "cell_type": "code",
      "execution_count": null,
      "metadata": {
        "colab": {
          "base_uri": "https://localhost:8080/"
        },
        "id": "tnAcdKKouqaG",
        "outputId": "d72c1d13-d762-45e6-faa1-d318708f4e59"
      },
      "outputs": [
        {
          "output_type": "stream",
          "name": "stdout",
          "text": [
            "El valor de A para que 𝑓(𝑣) sea una función de densidad de probabilidadeses:  0.001089142115176355\n"
          ]
        }
      ],
      "source": [
        "# Problema 4\n",
        "\n",
        "\n",
        "\"\"\"\n",
        "1. ¿Cual es el valor de  𝐴  que hace que la función  𝑓(𝑣)  sea efectivamente una función de densidad de probabilidades?\n",
        "\n",
        "Para esta parte debemos integrar la funcion de densidad probabilistica, igualarla a 1 y despejar el valor de A,\n",
        "ya que por teorema el area bajo la curva de esta funcion debe ser igual a 1\n",
        "\n",
        "\"\"\"\n",
        "def get_value_of_a():\n",
        "    v = smp.symbols('v', real=True) # Se define x como variable\n",
        "    A = smp.symbols('A', real=True) # Se define A como variable\n",
        "    f_v1 = A * smp.exp(-v**(2) + 5*v) # Se define la funcion\n",
        "    integral_v = smp.integrate(f_v1,(v,-smp.oo,smp.oo)) # Se resuelve la integral\n",
        "    A_value_v = smp.solve(integral_v-1,A) # Se resuelve la integral = 1 para A\n",
        "    return float(A_value_v[0])\n",
        "    \n",
        "A_v = get_value_of_a()\n",
        "print(\"El valor de A para que 𝑓(𝑣) sea una función de densidad de probabilidadeses: \", A_v)"
      ]
    },
    {
      "cell_type": "code",
      "execution_count": null,
      "metadata": {
        "colab": {
          "base_uri": "https://localhost:8080/"
        },
        "id": "UFhXJM0ruqaJ",
        "outputId": "045c9987-5020-4b79-aef3-a5b86e16cdb5"
      },
      "outputs": [
        {
          "output_type": "stream",
          "name": "stdout",
          "text": [
            "[5/2 - sqrt(4*t + 5)/2, sqrt(4*t + 5)/2 + 5/2]\n",
            "De esta forma f(t) =  0.00109*(sin(atan2(0, 4*t + 5)/2)**2*sign(4*t + 5)/2 + (sqrt((4*t + 5)/sign(4*t + 5))*cos(atan2(0, 4*t + 5)/2)/2 + 5/2)*cos(atan2(0, 4*t + 5)/2)*sign(4*t + 5)/sqrt((4*t + 5)/sign(4*t + 5)))*exp(-Abs(sqrt(4*t + 5)/2 + 5/2)**2 + 5*Abs(sqrt(4*t + 5)/2 + 5/2))*sign(sqrt(4*t + 5)/2 + 5/2)/(sqrt(4*t + 5)/2 + 5/2)\n"
          ]
        }
      ],
      "source": [
        "# Problema 4\n",
        "\"\"\"\n",
        "2. Encuentre  𝑓(𝑡)  ¿Es  𝑓(𝑡)  efectivamente una función de densidad de probabilidades? ¿Por qué?\n",
        "\n",
        "Para encontrar f(t) se debe utilizar el teorema de transformacion monotonica. El proceso se \n",
        "comenta a continuacion:\n",
        "\n",
        "\"\"\"\n",
        "\n",
        "\"\"\" 1. Encontrar h(t): Primero se debe despejar v de la ecuacion de la va: \"\"\"\n",
        "\n",
        "t, v = smp.symbols('t v', real= True)\n",
        "eq1= smp.Eq(v**2 -5*v +5 -t , 0)\n",
        "res= smp.solve(eq1,v)\n",
        "print(smp.solve(eq1,v))\n",
        "h_t = abs(res[1])\n",
        "#print(h_t)\n",
        "\n",
        "\"\"\" 2. Drivamos h(t) \"\"\"\n",
        "\n",
        "dhdt_abs = smp.diff(h_t, t)\n",
        "#print(dhdt)\n",
        "\n",
        "\"\"\" 3. Evaluamos f(h(t)) \"\"\"\n",
        "\n",
        "f_ht = round(A_v,5) * smp.exp(-(h_t)**(2) + 5*(h_t))\n",
        "#print(f_ht)\n",
        "\n",
        "\"\"\" 4. Finalmente se obtiene f(t) \"\"\"\n",
        "\n",
        "f_t = f_ht * dhdt_abs\n",
        "print(\"De esta forma f(t) = \", f_t)"
      ]
    },
    {
      "cell_type": "markdown",
      "metadata": {
        "id": "jh0qYVvNuqaL"
      },
      "source": [
        "---\n",
        "**Universidad de Costa Rica** | Facultad de Ingeniería | Escuela de Ingeniería Eléctrica\n",
        "\n",
        "&copy; 2022\n",
        "\n",
        "---"
      ]
    }
  ],
  "metadata": {
    "interpreter": {
      "hash": "6bedbcaad5e5e93c95a7e9bf0b212699fed89f7cb6bf2a7914bec11b4ac7af33"
    },
    "kernelspec": {
      "display_name": "Python 3 (ipykernel)",
      "language": "python",
      "name": "python3"
    },
    "language_info": {
      "codemirror_mode": {
        "name": "ipython",
        "version": 3
      },
      "file_extension": ".py",
      "mimetype": "text/x-python",
      "name": "python",
      "nbconvert_exporter": "python",
      "pygments_lexer": "ipython3",
      "version": "3.9.7"
    },
    "colab": {
      "provenance": [],
      "include_colab_link": true
    }
  },
  "nbformat": 4,
  "nbformat_minor": 0
}